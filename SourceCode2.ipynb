{
  "nbformat": 4,
  "nbformat_minor": 0,
  "metadata": {
    "colab": {
      "name": "Assignment2NLP.ipynb",
      "provenance": [],
      "collapsed_sections": []
    },
    "kernelspec": {
      "name": "python3",
      "display_name": "Python 3"
    },
    "accelerator": "GPU"
  },
  "cells": [
    {
      "cell_type": "code",
      "metadata": {
        "id": "DV8mJgFE2K_o",
        "colab_type": "code",
        "outputId": "8fd10bcb-5f22-42d9-d653-5c1b37e32bfe",
        "colab": {
          "base_uri": "https://localhost:8080/",
          "height": 97
        }
      },
      "source": [
        "# Import the  libraries \n",
        "import pandas as pd\n",
        "from sklearn.model_selection import train_test_split\n",
        "import numpy as np\n",
        "from keras.preprocessing.text import Tokenizer\n",
        "from keras.preprocessing.sequence import pad_sequences\n",
        "from keras.utils import to_categorical\n",
        "from keras.preprocessing.text import Tokenizer\n",
        "from keras.preprocessing.sequence import pad_sequences\n",
        "from keras.initializers import Constant\n",
        "from keras.models import Model\n",
        "from keras.layers import *\n",
        "from keras.utils.np_utils import to_categorical\n",
        "import re\n",
        "\n",
        "import matplotlib.pyplot as plt\n",
        "%matplotlib inline"
      ],
      "execution_count": 1,
      "outputs": [
        {
          "output_type": "stream",
          "text": [
            "Using TensorFlow backend.\n"
          ],
          "name": "stderr"
        },
        {
          "output_type": "display_data",
          "data": {
            "text/html": [
              "<p style=\"color: red;\">\n",
              "The default version of TensorFlow in Colab will soon switch to TensorFlow 2.x.<br>\n",
              "We recommend you <a href=\"https://www.tensorflow.org/guide/migrate\" target=\"_blank\">upgrade</a> now \n",
              "or ensure your notebook will continue to use TensorFlow 1.x via the <code>%tensorflow_version 1.x</code> magic:\n",
              "<a href=\"https://colab.research.google.com/notebooks/tensorflow_version.ipynb\" target=\"_blank\">more info</a>.</p>\n"
            ],
            "text/plain": [
              "<IPython.core.display.HTML object>"
            ]
          },
          "metadata": {
            "tags": []
          }
        }
      ]
    },
    {
      "cell_type": "code",
      "metadata": {
        "id": "fjnnjEiu2OEf",
        "colab_type": "code",
        "outputId": "afd762ad-1881-4aa1-d608-eafe0c0c8bf6",
        "colab": {
          "base_uri": "https://localhost:8080/",
          "height": 359
        }
      },
      "source": [
        "#Getting the dataset\n",
        "url_tr=\"https://raw.githubusercontent.com/cacoderquan/Sentiment-Analysis-on-the-Rotten-Tomatoes-movie-review-dataset/master/train.tsv\"\n",
        "data=pd.read_csv(url_tr,sep='\\t')\n",
        "data.head(10)"
      ],
      "execution_count": 2,
      "outputs": [
        {
          "output_type": "execute_result",
          "data": {
            "text/html": [
              "<div>\n",
              "<style scoped>\n",
              "    .dataframe tbody tr th:only-of-type {\n",
              "        vertical-align: middle;\n",
              "    }\n",
              "\n",
              "    .dataframe tbody tr th {\n",
              "        vertical-align: top;\n",
              "    }\n",
              "\n",
              "    .dataframe thead th {\n",
              "        text-align: right;\n",
              "    }\n",
              "</style>\n",
              "<table border=\"1\" class=\"dataframe\">\n",
              "  <thead>\n",
              "    <tr style=\"text-align: right;\">\n",
              "      <th></th>\n",
              "      <th>PhraseId</th>\n",
              "      <th>SentenceId</th>\n",
              "      <th>Phrase</th>\n",
              "      <th>Sentiment</th>\n",
              "    </tr>\n",
              "  </thead>\n",
              "  <tbody>\n",
              "    <tr>\n",
              "      <th>0</th>\n",
              "      <td>1</td>\n",
              "      <td>1</td>\n",
              "      <td>A series of escapades demonstrating the adage ...</td>\n",
              "      <td>1</td>\n",
              "    </tr>\n",
              "    <tr>\n",
              "      <th>1</th>\n",
              "      <td>2</td>\n",
              "      <td>1</td>\n",
              "      <td>A series of escapades demonstrating the adage ...</td>\n",
              "      <td>2</td>\n",
              "    </tr>\n",
              "    <tr>\n",
              "      <th>2</th>\n",
              "      <td>3</td>\n",
              "      <td>1</td>\n",
              "      <td>A series</td>\n",
              "      <td>2</td>\n",
              "    </tr>\n",
              "    <tr>\n",
              "      <th>3</th>\n",
              "      <td>4</td>\n",
              "      <td>1</td>\n",
              "      <td>A</td>\n",
              "      <td>2</td>\n",
              "    </tr>\n",
              "    <tr>\n",
              "      <th>4</th>\n",
              "      <td>5</td>\n",
              "      <td>1</td>\n",
              "      <td>series</td>\n",
              "      <td>2</td>\n",
              "    </tr>\n",
              "    <tr>\n",
              "      <th>5</th>\n",
              "      <td>6</td>\n",
              "      <td>1</td>\n",
              "      <td>of escapades demonstrating the adage that what...</td>\n",
              "      <td>2</td>\n",
              "    </tr>\n",
              "    <tr>\n",
              "      <th>6</th>\n",
              "      <td>7</td>\n",
              "      <td>1</td>\n",
              "      <td>of</td>\n",
              "      <td>2</td>\n",
              "    </tr>\n",
              "    <tr>\n",
              "      <th>7</th>\n",
              "      <td>8</td>\n",
              "      <td>1</td>\n",
              "      <td>escapades demonstrating the adage that what is...</td>\n",
              "      <td>2</td>\n",
              "    </tr>\n",
              "    <tr>\n",
              "      <th>8</th>\n",
              "      <td>9</td>\n",
              "      <td>1</td>\n",
              "      <td>escapades</td>\n",
              "      <td>2</td>\n",
              "    </tr>\n",
              "    <tr>\n",
              "      <th>9</th>\n",
              "      <td>10</td>\n",
              "      <td>1</td>\n",
              "      <td>demonstrating the adage that what is good for ...</td>\n",
              "      <td>2</td>\n",
              "    </tr>\n",
              "  </tbody>\n",
              "</table>\n",
              "</div>"
            ],
            "text/plain": [
              "   PhraseId  ...  Sentiment\n",
              "0         1  ...          1\n",
              "1         2  ...          2\n",
              "2         3  ...          2\n",
              "3         4  ...          2\n",
              "4         5  ...          2\n",
              "5         6  ...          2\n",
              "6         7  ...          2\n",
              "7         8  ...          2\n",
              "8         9  ...          2\n",
              "9        10  ...          2\n",
              "\n",
              "[10 rows x 4 columns]"
            ]
          },
          "metadata": {
            "tags": []
          },
          "execution_count": 2
        }
      ]
    },
    {
      "cell_type": "code",
      "metadata": {
        "id": "oqlRh9rj2Rg7",
        "colab_type": "code",
        "colab": {}
      },
      "source": [
        "#Splitting the datset in 70:30 ratio for train & test\n",
        "from sklearn.model_selection import train_test_split\n",
        "\n",
        "train, test = train_test_split(data, test_size=0.3, random_state=2003)"
      ],
      "execution_count": 0,
      "outputs": []
    },
    {
      "cell_type": "code",
      "metadata": {
        "id": "J-8iCxpshqe1",
        "colab_type": "code",
        "outputId": "d0e98d72-ebee-4def-cb56-83b89a5be62f",
        "colab": {
          "base_uri": "https://localhost:8080/",
          "height": 119
        }
      },
      "source": [
        "train['Sentiment'].value_counts()"
      ],
      "execution_count": 4,
      "outputs": [
        {
          "output_type": "execute_result",
          "data": {
            "text/plain": [
              "2    55595\n",
              "3    23055\n",
              "1    19203\n",
              "4     6468\n",
              "0     4921\n",
              "Name: Sentiment, dtype: int64"
            ]
          },
          "metadata": {
            "tags": []
          },
          "execution_count": 4
        }
      ]
    },
    {
      "cell_type": "code",
      "metadata": {
        "id": "K8uqtj6g2gXW",
        "colab_type": "code",
        "colab": {}
      },
      "source": [
        "# optional blog for upsampling & downsampling\n",
        "from sklearn.utils import resample\n",
        "train_2 = train[train['Sentiment']==2]\n",
        "train_1 = train[train['Sentiment']==1]\n",
        "train_3 = train[train['Sentiment']==3]\n",
        "train_4 = train[train['Sentiment']==4]\n",
        "train_5 = train[train['Sentiment']==0]\n",
        "#train_2_sample = resample(train_2,replace=True,n_samples=30000,random_state=123)\n",
        "#train_1_sample = resample(train_1,replace=True,n_samples=4924,random_state=123)\n",
        "#train_3_sample = resample(train_3,replace=True,n_samples=4924,random_state=123)\n",
        "#train_4_sample = resample(train_4,replace=True,n_samples=10000,random_state=123)\n",
        "#train_5_sample = resample(train_5,replace=True,n_samples=10000,random_state=123)\n",
        "\n",
        "#df_upsampled = pd.concat([train_2, train_1,train_3,train_4_sample,train_5_sample])\n",
        "#df_upsampled.head()"
      ],
      "execution_count": 0,
      "outputs": []
    },
    {
      "cell_type": "code",
      "metadata": {
        "id": "0_mLOUcRV7nE",
        "colab_type": "code",
        "colab": {}
      },
      "source": [
        "# extract full sentences only from the dataset\n",
        "fullSentences = []\n",
        "curSentence = 0\n",
        "for i in range(data.shape[0]):\n",
        "  if data['SentenceId'][i]> curSentence:\n",
        "    fullSentences.append((data['Phrase'][i], data['Sentiment'][i]))\n",
        "    curSentence = curSentence +1\n"
      ],
      "execution_count": 0,
      "outputs": []
    },
    {
      "cell_type": "code",
      "metadata": {
        "id": "-sZcR0nHWWhp",
        "colab_type": "code",
        "colab": {}
      },
      "source": [
        "# put data into a df\n",
        "fullSentDf = pd.DataFrame(fullSentences,\n",
        "                                columns=['Phrase', 'Sentiment'])\n"
      ],
      "execution_count": 0,
      "outputs": []
    },
    {
      "cell_type": "code",
      "metadata": {
        "id": "FtPWGR8HWfaI",
        "colab_type": "code",
        "outputId": "6f513d75-4bed-4e73-91c3-8d026a3e2a2e",
        "colab": {
          "base_uri": "https://localhost:8080/",
          "height": 119
        }
      },
      "source": [
        "# Check class imbalance in full sentences\n",
        "fullSentDf['Sentiment'].value_counts()"
      ],
      "execution_count": 8,
      "outputs": [
        {
          "output_type": "execute_result",
          "data": {
            "text/plain": [
              "3    2325\n",
              "1    2203\n",
              "2    1659\n",
              "4    1282\n",
              "0    1075\n",
              "Name: Sentiment, dtype: int64"
            ]
          },
          "metadata": {
            "tags": []
          },
          "execution_count": 8
        }
      ]
    },
    {
      "cell_type": "code",
      "metadata": {
        "id": "dZ6iL3_822Ki",
        "colab_type": "code",
        "colab": {}
      },
      "source": [
        "X_train=train[\"Phrase\"]\n",
        "Y_train=train[\"Sentiment\"]\n",
        "X_test=test[\"Phrase\"]\n",
        "Y_test=test[\"Sentiment\"]"
      ],
      "execution_count": 0,
      "outputs": []
    },
    {
      "cell_type": "code",
      "metadata": {
        "id": "RBsHl7M220g_",
        "colab_type": "code",
        "outputId": "e42b14e5-8997-483e-96f8-4a13dbcb5568",
        "colab": {
          "base_uri": "https://localhost:8080/",
          "height": 119
        }
      },
      "source": [
        "# preprocessing of dataset\n",
        "import nltk\n",
        "import random\n",
        "nltk.download('punkt')\n",
        "nltk.download('stopwords')\n",
        "nltk.download('wordnet')\n",
        "from nltk.tokenize import word_tokenize\n",
        "from nltk.corpus import stopwords\n",
        "from nltk.stem import WordNetLemmatizer, PorterStemmer, LancasterStemmer\n",
        "from sklearn.feature_extraction.text import TfidfVectorizer\n",
        "\n",
        "def  Preprocess_data(X,Y):\n",
        " \n",
        " documents = []\n",
        " for i in range(len(X)):\n",
        "   tmpWords = word_tokenize(X.values[i])\n",
        "   documents.append((tmpWords, Y.values[i]))\n",
        " random.seed(9001)\n",
        " random.shuffle(documents)\n",
        " porter = PorterStemmer()\n",
        " lancaster=LancasterStemmer()\n",
        " wordnet_lemmatizer = WordNetLemmatizer()\n",
        " stopwords_en = stopwords.words(\"english\")\n",
        " punctuations=\"?:!.,;'\\\"-()\"\n",
        " remove_stopwords = True\n",
        " useStemming = True\n",
        " useLemma = False\n",
        " removePuncs = True\n",
        " for l in range(len(documents)):\n",
        "  label = documents[l][1]\n",
        "  tmpReview = []\n",
        "  for w in documents[l][0]:\n",
        "    newWord = w\n",
        "    if remove_stopwords and (w in stopwords_en):\n",
        "      continue\n",
        "    if removePuncs and (w in punctuations):\n",
        "      continue\n",
        "    if useStemming:\n",
        "      #newWord = porter.stem(newWord)\n",
        "      newWord = lancaster.stem(newWord)\n",
        "    if useLemma:\n",
        "      newWord = wordnet_lemmatizer.lemmatize(newWord)\n",
        "    tmpReview.append(newWord)\n",
        "  documents[l] = (' '.join(tmpReview), label)\n",
        "  all_data = pd.DataFrame(documents,\n",
        "                                columns=['text', 'sentiment'])\n",
        "\n",
        "  return all_data"
      ],
      "execution_count": 10,
      "outputs": [
        {
          "output_type": "stream",
          "text": [
            "[nltk_data] Downloading package punkt to /root/nltk_data...\n",
            "[nltk_data]   Package punkt is already up-to-date!\n",
            "[nltk_data] Downloading package stopwords to /root/nltk_data...\n",
            "[nltk_data]   Package stopwords is already up-to-date!\n",
            "[nltk_data] Downloading package wordnet to /root/nltk_data...\n",
            "[nltk_data]   Package wordnet is already up-to-date!\n"
          ],
          "name": "stdout"
        }
      ]
    },
    {
      "cell_type": "code",
      "metadata": {
        "id": "bhUGnPwg3dJl",
        "colab_type": "code",
        "colab": {}
      },
      "source": [
        "all_data = Preprocess_data(X_train,Y_train)"
      ],
      "execution_count": 0,
      "outputs": []
    },
    {
      "cell_type": "code",
      "metadata": {
        "id": "KCtXDJNa3nAV",
        "colab_type": "code",
        "outputId": "5ceb7263-b793-42b7-acb1-9c081b2e079f",
        "colab": {
          "base_uri": "https://localhost:8080/",
          "height": 419
        }
      },
      "source": [
        "all_data"
      ],
      "execution_count": 12,
      "outputs": [
        {
          "output_type": "execute_result",
          "data": {
            "text/html": [
              "<div>\n",
              "<style scoped>\n",
              "    .dataframe tbody tr th:only-of-type {\n",
              "        vertical-align: middle;\n",
              "    }\n",
              "\n",
              "    .dataframe tbody tr th {\n",
              "        vertical-align: top;\n",
              "    }\n",
              "\n",
              "    .dataframe thead th {\n",
              "        text-align: right;\n",
              "    }\n",
              "</style>\n",
              "<table border=\"1\" class=\"dataframe\">\n",
              "  <thead>\n",
              "    <tr style=\"text-align: right;\">\n",
              "      <th></th>\n",
              "      <th>text</th>\n",
              "      <th>sentiment</th>\n",
              "    </tr>\n",
              "  </thead>\n",
              "  <tbody>\n",
              "    <tr>\n",
              "      <th>0</th>\n",
              "      <td>world trad cent tragedy</td>\n",
              "      <td>2</td>\n",
              "    </tr>\n",
              "    <tr>\n",
              "      <th>1</th>\n",
              "      <td>[impossible, spot]</td>\n",
              "      <td>1</td>\n",
              "    </tr>\n",
              "    <tr>\n",
              "      <th>2</th>\n",
              "      <td>[constructed, than, ``, Memento, '']</td>\n",
              "      <td>2</td>\n",
              "    </tr>\n",
              "    <tr>\n",
              "      <th>3</th>\n",
              "      <td>[found, myself]</td>\n",
              "      <td>2</td>\n",
              "    </tr>\n",
              "    <tr>\n",
              "      <th>4</th>\n",
              "      <td>[The, most, horrific, movie, experience]</td>\n",
              "      <td>0</td>\n",
              "    </tr>\n",
              "    <tr>\n",
              "      <th>...</th>\n",
              "      <td>...</td>\n",
              "      <td>...</td>\n",
              "    </tr>\n",
              "    <tr>\n",
              "      <th>109237</th>\n",
              "      <td>[terrible, ,, banal, dialogue]</td>\n",
              "      <td>1</td>\n",
              "    </tr>\n",
              "    <tr>\n",
              "      <th>109238</th>\n",
              "      <td>[It, 's, pretty, linear, and, only, makeup-dee...</td>\n",
              "      <td>2</td>\n",
              "    </tr>\n",
              "    <tr>\n",
              "      <th>109239</th>\n",
              "      <td>[what, experiences, you, bring, to, it]</td>\n",
              "      <td>2</td>\n",
              "    </tr>\n",
              "    <tr>\n",
              "      <th>109240</th>\n",
              "      <td>[some, difficult, relationships]</td>\n",
              "      <td>1</td>\n",
              "    </tr>\n",
              "    <tr>\n",
              "      <th>109241</th>\n",
              "      <td>[modern]</td>\n",
              "      <td>2</td>\n",
              "    </tr>\n",
              "  </tbody>\n",
              "</table>\n",
              "<p>109242 rows × 2 columns</p>\n",
              "</div>"
            ],
            "text/plain": [
              "                                                     text  sentiment\n",
              "0                                 world trad cent tragedy          2\n",
              "1                                      [impossible, spot]          1\n",
              "2                    [constructed, than, ``, Memento, '']          2\n",
              "3                                         [found, myself]          2\n",
              "4                [The, most, horrific, movie, experience]          0\n",
              "...                                                   ...        ...\n",
              "109237                     [terrible, ,, banal, dialogue]          1\n",
              "109238  [It, 's, pretty, linear, and, only, makeup-dee...          2\n",
              "109239            [what, experiences, you, bring, to, it]          2\n",
              "109240                   [some, difficult, relationships]          1\n",
              "109241                                           [modern]          2\n",
              "\n",
              "[109242 rows x 2 columns]"
            ]
          },
          "metadata": {
            "tags": []
          },
          "execution_count": 12
        }
      ]
    },
    {
      "cell_type": "code",
      "metadata": {
        "id": "CJY47fan3rgi",
        "colab_type": "code",
        "colab": {}
      },
      "source": [
        "all_data['text']=[\" \".join(text) for text in all_data['text'].values]"
      ],
      "execution_count": 0,
      "outputs": []
    },
    {
      "cell_type": "code",
      "metadata": {
        "id": "9FSQT2DA3ye1",
        "colab_type": "code",
        "colab": {}
      },
      "source": [
        "all_data1 = Preprocess_data(X_test,Y_test)"
      ],
      "execution_count": 0,
      "outputs": []
    },
    {
      "cell_type": "code",
      "metadata": {
        "id": "qO4IA_Xb32a3",
        "colab_type": "code",
        "colab": {}
      },
      "source": [
        "all_data1['text']=[\" \".join(text) for text in all_data1['text'].values]"
      ],
      "execution_count": 0,
      "outputs": []
    },
    {
      "cell_type": "code",
      "metadata": {
        "id": "pA3tuxZk35yf",
        "colab_type": "code",
        "colab": {}
      },
      "source": [
        "#TF-IDF\n",
        "vectorizer = TfidfVectorizer(stop_words=\"english\",\n",
        "                            ngram_range=(1, 1),max_features=2000)"
      ],
      "execution_count": 0,
      "outputs": []
    },
    {
      "cell_type": "code",
      "metadata": {
        "id": "_8mzkljk3-Fa",
        "colab_type": "code",
        "colab": {}
      },
      "source": [
        "X_trainF = vectorizer.fit_transform(all_data[\"text\"])\n",
        "Y_trainF= all_data['sentiment']\n",
        "Y_trainF = to_categorical(Y_trainF.values)"
      ],
      "execution_count": 0,
      "outputs": []
    },
    {
      "cell_type": "code",
      "metadata": {
        "id": "e0kfXLrN4N7t",
        "colab_type": "code",
        "colab": {}
      },
      "source": [
        "X_testF = vectorizer.fit_transform(all_data1[\"text\"])\n",
        "Y_testF= all_data1['sentiment']\n",
        "Y_testF = to_categorical(Y_testF.values)"
      ],
      "execution_count": 0,
      "outputs": []
    },
    {
      "cell_type": "code",
      "metadata": {
        "id": "iLfnM22t4Rkx",
        "colab_type": "code",
        "outputId": "39c729f9-e905-47be-92cb-e0000e3c805a",
        "colab": {
          "base_uri": "https://localhost:8080/",
          "height": 85
        }
      },
      "source": [
        "print(X_trainF.shape)\n",
        "print(Y_trainF.shape)\n",
        "print(X_testF.shape)\n",
        "print(Y_testF.shape)"
      ],
      "execution_count": 19,
      "outputs": [
        {
          "output_type": "stream",
          "text": [
            "(109242, 2000)\n",
            "(109242, 5)\n",
            "(46818, 2000)\n",
            "(46818, 5)\n"
          ],
          "name": "stdout"
        }
      ]
    },
    {
      "cell_type": "code",
      "metadata": {
        "id": "sZsykymE4iWe",
        "colab_type": "code",
        "outputId": "efa533b7-9405-41c1-82ac-1fa99ea72608",
        "colab": {
          "base_uri": "https://localhost:8080/",
          "height": 258
        }
      },
      "source": [
        "#CNN model\n",
        "from keras.layers import Input, Dense, Embedding, Flatten\n",
        "from keras.layers import SpatialDropout1D\n",
        "from keras.layers.convolutional import Conv1D, MaxPooling1D\n",
        "from keras.models import Sequential\n",
        "from keras import regularizers\n",
        "\n",
        "model = Sequential()\n",
        "max_features = 20000\n",
        "sequence_length = 2000\n",
        "\n",
        "# Input / Embdedding\n",
        "model.add(Embedding(max_features, 300, input_length=sequence_length,trainable=True))\n",
        "\n",
        "# CNN\n",
        "\n",
        "model.add(SpatialDropout1D(0.2))\n",
        "\n",
        "model.add(Conv1D(32, kernel_size=3, padding='same', activation='relu'))\n",
        "model.add(Dropout(rate = 0.50))\n",
        "model.add(MaxPooling1D(pool_size=2))\n",
        "\n",
        "\n",
        "model.add(Conv1D(64, kernel_size=3, padding='same', activation='relu'))\n",
        "model.add(MaxPooling1D(pool_size=2))\n",
        "\n",
        "\n",
        "\n",
        "#model.add(Dropout(rate = 0.50))\n",
        "#model.add(Bidirectional(GRU(32, return_sequences = True))\n",
        "model.add(Flatten())\n",
        "\n",
        "# Output layer\n",
        "model.add(Dense(5, activation='softmax'))"
      ],
      "execution_count": 20,
      "outputs": [
        {
          "output_type": "stream",
          "text": [
            "WARNING:tensorflow:From /usr/local/lib/python3.6/dist-packages/keras/backend/tensorflow_backend.py:66: The name tf.get_default_graph is deprecated. Please use tf.compat.v1.get_default_graph instead.\n",
            "\n",
            "WARNING:tensorflow:From /usr/local/lib/python3.6/dist-packages/keras/backend/tensorflow_backend.py:541: The name tf.placeholder is deprecated. Please use tf.compat.v1.placeholder instead.\n",
            "\n",
            "WARNING:tensorflow:From /usr/local/lib/python3.6/dist-packages/keras/backend/tensorflow_backend.py:4432: The name tf.random_uniform is deprecated. Please use tf.random.uniform instead.\n",
            "\n",
            "WARNING:tensorflow:From /usr/local/lib/python3.6/dist-packages/keras/backend/tensorflow_backend.py:148: The name tf.placeholder_with_default is deprecated. Please use tf.compat.v1.placeholder_with_default instead.\n",
            "\n",
            "WARNING:tensorflow:From /usr/local/lib/python3.6/dist-packages/keras/backend/tensorflow_backend.py:3733: calling dropout (from tensorflow.python.ops.nn_ops) with keep_prob is deprecated and will be removed in a future version.\n",
            "Instructions for updating:\n",
            "Please use `rate` instead of `keep_prob`. Rate should be set to `rate = 1 - keep_prob`.\n",
            "WARNING:tensorflow:From /usr/local/lib/python3.6/dist-packages/keras/backend/tensorflow_backend.py:4267: The name tf.nn.max_pool is deprecated. Please use tf.nn.max_pool2d instead.\n",
            "\n"
          ],
          "name": "stdout"
        }
      ]
    },
    {
      "cell_type": "code",
      "metadata": {
        "id": "j8t76YWY5F9P",
        "colab_type": "code",
        "outputId": "d0b3a561-db69-4454-e9e9-238dab71d390",
        "colab": {
          "base_uri": "https://localhost:8080/",
          "height": 459
        }
      },
      "source": [
        "model.summary()"
      ],
      "execution_count": 21,
      "outputs": [
        {
          "output_type": "stream",
          "text": [
            "Model: \"sequential_1\"\n",
            "_________________________________________________________________\n",
            "Layer (type)                 Output Shape              Param #   \n",
            "=================================================================\n",
            "embedding_1 (Embedding)      (None, 2000, 300)         6000000   \n",
            "_________________________________________________________________\n",
            "spatial_dropout1d_1 (Spatial (None, 2000, 300)         0         \n",
            "_________________________________________________________________\n",
            "conv1d_1 (Conv1D)            (None, 2000, 32)          28832     \n",
            "_________________________________________________________________\n",
            "dropout_1 (Dropout)          (None, 2000, 32)          0         \n",
            "_________________________________________________________________\n",
            "max_pooling1d_1 (MaxPooling1 (None, 1000, 32)          0         \n",
            "_________________________________________________________________\n",
            "conv1d_2 (Conv1D)            (None, 1000, 64)          6208      \n",
            "_________________________________________________________________\n",
            "max_pooling1d_2 (MaxPooling1 (None, 500, 64)           0         \n",
            "_________________________________________________________________\n",
            "flatten_1 (Flatten)          (None, 32000)             0         \n",
            "_________________________________________________________________\n",
            "dense_1 (Dense)              (None, 5)                 160005    \n",
            "=================================================================\n",
            "Total params: 6,195,045\n",
            "Trainable params: 6,195,045\n",
            "Non-trainable params: 0\n",
            "_________________________________________________________________\n"
          ],
          "name": "stdout"
        }
      ]
    },
    {
      "cell_type": "code",
      "metadata": {
        "id": "oFpbj3nb5IgM",
        "colab_type": "code",
        "colab": {}
      },
      "source": [
        "#function for F1 score ,precsion, recall\n",
        "from keras import backend as K\n",
        "\n",
        "def recall_m(y_true, y_pred):\n",
        "    true_positives = K.sum(K.round(K.clip(y_true * y_pred, 0, 1)))\n",
        "    possible_positives = K.sum(K.round(K.clip(y_true, 0, 1)))\n",
        "    recall = true_positives / (possible_positives + K.epsilon())\n",
        "    return recall\n",
        "\n",
        "def precision_m(y_true, y_pred):\n",
        "    true_positives = K.sum(K.round(K.clip(y_true * y_pred, 0, 1)))\n",
        "    predicted_positives = K.sum(K.round(K.clip(y_pred, 0, 1)))\n",
        "    precision = true_positives / (predicted_positives + K.epsilon())\n",
        "    return precision\n",
        "\n",
        "def f1_m(y_true, y_pred):\n",
        "    precision = precision_m(y_true, y_pred)\n",
        "    recall = recall_m(y_true, y_pred)\n",
        "    return 2*((precision*recall)/(precision+recall+K.epsilon()))\n"
      ],
      "execution_count": 0,
      "outputs": []
    },
    {
      "cell_type": "code",
      "metadata": {
        "id": "tB-K7Bl65TQn",
        "colab_type": "code",
        "outputId": "ff29a201-34c6-491b-c76d-3a84e3a2069c",
        "colab": {
          "base_uri": "https://localhost:8080/",
          "height": 105
        }
      },
      "source": [
        "# compile the model\n",
        "model.compile(optimizer='adam', loss='categorical_crossentropy', metrics=['acc',f1_m,precision_m, recall_m])"
      ],
      "execution_count": 23,
      "outputs": [
        {
          "output_type": "stream",
          "text": [
            "WARNING:tensorflow:From /usr/local/lib/python3.6/dist-packages/keras/optimizers.py:793: The name tf.train.Optimizer is deprecated. Please use tf.compat.v1.train.Optimizer instead.\n",
            "\n",
            "WARNING:tensorflow:From /usr/local/lib/python3.6/dist-packages/keras/backend/tensorflow_backend.py:3576: The name tf.log is deprecated. Please use tf.math.log instead.\n",
            "\n"
          ],
          "name": "stdout"
        }
      ]
    },
    {
      "cell_type": "code",
      "metadata": {
        "id": "EGFha-zp5WbP",
        "colab_type": "code",
        "outputId": "45304011-d71a-4634-a23b-bcd60052ff23",
        "colab": {
          "base_uri": "https://localhost:8080/",
          "height": 394
        }
      },
      "source": [
        "history = model.fit(X_trainF, Y_trainF, epochs=10, batch_size=64, verbose=1, validation_split=0.1, shuffle=True)\n"
      ],
      "execution_count": 32,
      "outputs": [
        {
          "output_type": "stream",
          "text": [
            "Train on 98317 samples, validate on 10925 samples\n",
            "Epoch 1/10\n",
            "98317/98317 [==============================] - 53s 544us/step - loss: 1.2159 - acc: 0.5216 - f1_m: 0.2657 - precision_m: 0.6796 - recall_m: 0.1797 - val_loss: 1.2676 - val_acc: 0.5026 - val_f1_m: 0.2303 - val_precision_m: 0.6847 - val_recall_m: 0.1400\n",
            "Epoch 2/10\n",
            "98317/98317 [==============================] - 53s 543us/step - loss: 1.2139 - acc: 0.5225 - f1_m: 0.2613 - precision_m: 0.6872 - recall_m: 0.1733 - val_loss: 1.2724 - val_acc: 0.5000 - val_f1_m: 0.2216 - val_precision_m: 0.6797 - val_recall_m: 0.1339\n",
            "Epoch 3/10\n",
            "98317/98317 [==============================] - 53s 544us/step - loss: 1.2131 - acc: 0.5234 - f1_m: 0.2624 - precision_m: 0.6887 - recall_m: 0.1743 - val_loss: 1.2719 - val_acc: 0.5026 - val_f1_m: 0.2296 - val_precision_m: 0.6812 - val_recall_m: 0.1398\n",
            "Epoch 4/10\n",
            "98317/98317 [==============================] - 53s 542us/step - loss: 1.2116 - acc: 0.5227 - f1_m: 0.2682 - precision_m: 0.6837 - recall_m: 0.1811 - val_loss: 1.2777 - val_acc: 0.4985 - val_f1_m: 0.2212 - val_precision_m: 0.6770 - val_recall_m: 0.1335\n",
            "Epoch 5/10\n",
            "98317/98317 [==============================] - 53s 544us/step - loss: 1.2107 - acc: 0.5232 - f1_m: 0.2603 - precision_m: 0.6905 - recall_m: 0.1707 - val_loss: 1.2727 - val_acc: 0.5017 - val_f1_m: 0.2227 - val_precision_m: 0.6832 - val_recall_m: 0.1346\n",
            "Epoch 6/10\n",
            "98317/98317 [==============================] - 53s 542us/step - loss: 1.2100 - acc: 0.5230 - f1_m: 0.2772 - precision_m: 0.6836 - recall_m: 0.1922 - val_loss: 1.2737 - val_acc: 0.5020 - val_f1_m: 0.2230 - val_precision_m: 0.6783 - val_recall_m: 0.1350\n",
            "Epoch 7/10\n",
            "98317/98317 [==============================] - 53s 543us/step - loss: 1.2091 - acc: 0.5237 - f1_m: 0.2575 - precision_m: 0.6949 - recall_m: 0.1669 - val_loss: 1.2729 - val_acc: 0.5026 - val_f1_m: 0.2257 - val_precision_m: 0.6814 - val_recall_m: 0.1368\n",
            "Epoch 8/10\n",
            "98317/98317 [==============================] - 53s 543us/step - loss: 1.2088 - acc: 0.5231 - f1_m: 0.2606 - precision_m: 0.6892 - recall_m: 0.1715 - val_loss: 1.2696 - val_acc: 0.5034 - val_f1_m: 0.2170 - val_precision_m: 0.6975 - val_recall_m: 0.1300\n",
            "Epoch 9/10\n",
            "98317/98317 [==============================] - 53s 543us/step - loss: 1.2083 - acc: 0.5235 - f1_m: 0.2639 - precision_m: 0.6895 - recall_m: 0.1751 - val_loss: 1.2753 - val_acc: 0.5024 - val_f1_m: 0.2302 - val_precision_m: 0.6866 - val_recall_m: 0.1400\n",
            "Epoch 10/10\n",
            "98317/98317 [==============================] - 53s 544us/step - loss: 1.2081 - acc: 0.5235 - f1_m: 0.2652 - precision_m: 0.6897 - recall_m: 0.1765 - val_loss: 1.2769 - val_acc: 0.5019 - val_f1_m: 0.2226 - val_precision_m: 0.6892 - val_recall_m: 0.1344\n"
          ],
          "name": "stdout"
        }
      ]
    },
    {
      "cell_type": "code",
      "metadata": {
        "id": "8NwSBFrt5iML",
        "colab_type": "code",
        "colab": {
          "base_uri": "https://localhost:8080/",
          "height": 34
        },
        "outputId": "7155791a-823b-40db-c2fa-0b6369a8d7f4"
      },
      "source": [
        "scores=model.evaluate(X_testF,Y_testF,verbose=1)"
      ],
      "execution_count": 25,
      "outputs": [
        {
          "output_type": "stream",
          "text": [
            "46818/46818 [==============================] - 6s 125us/step\n"
          ],
          "name": "stdout"
        }
      ]
    },
    {
      "cell_type": "code",
      "metadata": {
        "id": "sNGEjZb75s92",
        "colab_type": "code",
        "colab": {
          "base_uri": "https://localhost:8080/",
          "height": 153
        },
        "outputId": "0fdd81a6-a1ed-4438-cb04-b49ca5449b72"
      },
      "source": [
        "print(\"Accuracy:\")\n",
        "print(scores[1])\n",
        "print(\"F1-Score:\")\n",
        "print(scores[2])\n",
        "print(\"Precision:\")\n",
        "print(scores[3])\n",
        "print(\"recall:\")\n",
        "print(scores[4])\n"
      ],
      "execution_count": 26,
      "outputs": [
        {
          "output_type": "stream",
          "text": [
            "Accuracy:\n",
            "0.50559613823743\n",
            "F1-Score:\n",
            "0.2082713372638415\n",
            "Precision:\n",
            "0.615920461004825\n",
            "recall:\n",
            "0.127920885129651\n"
          ],
          "name": "stdout"
        }
      ]
    },
    {
      "cell_type": "code",
      "metadata": {
        "id": "LMACSAGoMY_5",
        "colab_type": "code",
        "colab": {
          "base_uri": "https://localhost:8080/",
          "height": 573
        },
        "outputId": "f51eba31-2ba6-4d7f-bad4-9af5403fed6f"
      },
      "source": [
        "plt.plot(history.history['acc'])\n",
        "plt.plot(history.history['val_acc'])\n",
        "plt.title('model accuracy')\n",
        "plt.ylabel('accuracy')\n",
        "plt.xlabel('epoch')\n",
        "plt.legend(['train', 'validation'], loc='upper left')\n",
        "plt.show()\n",
        "\n",
        "plt.plot(history.history['loss'])\n",
        "plt.plot(history.history['val_loss'])\n",
        "plt.title('model loss')\n",
        "plt.ylabel('loss')\n",
        "plt.xlabel('epoch')\n",
        "plt.legend(['train', 'validation'], loc='upper left')\n",
        "plt.show()"
      ],
      "execution_count": 27,
      "outputs": [
        {
          "output_type": "display_data",
          "data": {
            "image/png": "[encoded data removed]",
            "text/plain": [
              "<Figure size 432x288 with 1 Axes>"
            ]
          },
          "metadata": {
            "tags": []
          }
        },
        {
          "output_type": "display_data",
          "data": {
            "image/png": "[encoded data removed]",
            "text/plain": [
              "<Figure size 432x288 with 1 Axes>"
            ]
          },
          "metadata": {
            "tags": []
          }
        }
      ]
    },
    {
      "cell_type": "code",
      "metadata": {
        "id": "q2zywexnOb3u",
        "colab_type": "code",
        "colab": {
          "base_uri": "https://localhost:8080/",
          "height": 34
        },
        "outputId": "cbdb6b5b-d167-408f-9744-5632e5d5964c"
      },
      "source": [
        "model.save(\"model_1115467.h5\")\n",
        "print(\"Saved model to disk\")\n"
      ],
      "execution_count": 28,
      "outputs": [
        {
          "output_type": "stream",
          "text": [
            "Saved model to disk\n"
          ],
          "name": "stdout"
        }
      ]
    },
    {
      "cell_type": "code",
      "metadata": {
        "id": "KttoN12yPGkw",
        "colab_type": "code",
        "colab": {
          "base_uri": "https://localhost:8080/",
          "height": 459
        },
        "outputId": "8ecff2e0-1737-4f84-e91c-91d92037c7b4"
      },
      "source": [
        "from numpy import loadtxt\n",
        "from keras.models import load_model\n",
        "# load model\n",
        "model1 = load_model('model_1115467.h5', custom_objects={'f1_m':f1_m,'precision_m':precision_m,'recall_m':recall_m })\n",
        "# summarize model\n",
        "model1.summary()\n",
        "\n",
        "\n"
      ],
      "execution_count": 29,
      "outputs": [
        {
          "output_type": "stream",
          "text": [
            "Model: \"sequential_1\"\n",
            "_________________________________________________________________\n",
            "Layer (type)                 Output Shape              Param #   \n",
            "=================================================================\n",
            "embedding_1 (Embedding)      (None, 2000, 300)         6000000   \n",
            "_________________________________________________________________\n",
            "spatial_dropout1d_1 (Spatial (None, 2000, 300)         0         \n",
            "_________________________________________________________________\n",
            "conv1d_1 (Conv1D)            (None, 2000, 32)          28832     \n",
            "_________________________________________________________________\n",
            "dropout_1 (Dropout)          (None, 2000, 32)          0         \n",
            "_________________________________________________________________\n",
            "max_pooling1d_1 (MaxPooling1 (None, 1000, 32)          0         \n",
            "_________________________________________________________________\n",
            "conv1d_2 (Conv1D)            (None, 1000, 64)          6208      \n",
            "_________________________________________________________________\n",
            "max_pooling1d_2 (MaxPooling1 (None, 500, 64)           0         \n",
            "_________________________________________________________________\n",
            "flatten_1 (Flatten)          (None, 32000)             0         \n",
            "_________________________________________________________________\n",
            "dense_1 (Dense)              (None, 5)                 160005    \n",
            "=================================================================\n",
            "Total params: 6,195,045\n",
            "Trainable params: 6,195,045\n",
            "Non-trainable params: 0\n",
            "_________________________________________________________________\n"
          ],
          "name": "stdout"
        }
      ]
    },
    {
      "cell_type": "code",
      "metadata": {
        "id": "uywphUoFRKVD",
        "colab_type": "code",
        "colab": {
          "base_uri": "https://localhost:8080/",
          "height": 34
        },
        "outputId": "80b8def4-24c0-45ce-aa6f-621f36531f94"
      },
      "source": [
        "#evaluting the model loaded\n",
        "\n",
        "scores=model1.evaluate(X_testF,Y_testF,verbose=1)"
      ],
      "execution_count": 30,
      "outputs": [
        {
          "output_type": "stream",
          "text": [
            "46818/46818 [==============================] - 6s 126us/step\n"
          ],
          "name": "stdout"
        }
      ]
    },
    {
      "cell_type": "code",
      "metadata": {
        "id": "OR_Nv0IjRxwP",
        "colab_type": "code",
        "colab": {
          "base_uri": "https://localhost:8080/",
          "height": 153
        },
        "outputId": "dbfab3d0-fea9-499c-ac17-c363d9d5b193"
      },
      "source": [
        "print(\"Accuracy:\")\n",
        "print(scores[1])\n",
        "print(\"F1-Score:\")\n",
        "print(scores[2])\n",
        "print(\"Precision:\")\n",
        "print(scores[3])\n",
        "print(\"recall:\")\n",
        "print(scores[4])\n"
      ],
      "execution_count": 31,
      "outputs": [
        {
          "output_type": "stream",
          "text": [
            "Accuracy:\n",
            "0.50559613823743\n",
            "F1-Score:\n",
            "0.2082713372638415\n",
            "Precision:\n",
            "0.615920461004825\n",
            "recall:\n",
            "0.127920885129651\n"
          ],
          "name": "stdout"
        }
      ]
    }
  ]
}